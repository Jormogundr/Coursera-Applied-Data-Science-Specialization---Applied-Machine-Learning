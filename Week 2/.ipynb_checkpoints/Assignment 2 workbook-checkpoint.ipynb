{
 "cells": [
  {
   "cell_type": "markdown",
   "id": "08417f30-2290-4813-9b0d-e86570fb277a",
   "metadata": {},
   "source": [
    "# Assignment 2\n",
    "\n",
    "In this assignment you'll explore the relationship between model complexity and generalization performance, by adjusting key parameters of various supervised learning models. Part 1 of this assignment will look at regression and Part 2 will look at classification.\n",
    "\n",
    "## Part 1 - Regression"
   ]
  },
  {
   "cell_type": "code",
   "execution_count": 4,
   "id": "03bf8503-ec63-43c8-98fb-53c404764762",
   "metadata": {},
   "outputs": [],
   "source": [
    "import numpy as np\n",
    "import pandas as pd\n",
    "from sklearn.model_selection import train_test_split\n",
    "\n",
    "\n",
    "np.random.seed(0)\n",
    "n = 15\n",
    "x = np.linspace(0,10,n) + np.random.randn(n)/5\n",
    "y = np.sin(x)+x/6 + np.random.randn(n)/10\n",
    "\n",
    "\n",
    "X_train, X_test, y_train, y_test = train_test_split(x, y, random_state=0)\n",
    "\n",
    "# You can use this function to help you visualize the dataset by\n",
    "# plotting a scatterplot of the data points\n",
    "# in the training and test sets.\n",
    "def part1_scatter():\n",
    "    import matplotlib.pyplot as plt\n",
    "    %matplotlib notebook\n",
    "    plt.figure()\n",
    "    plt.scatter(X_train, y_train, label='training data')\n",
    "    plt.scatter(X_test, y_test, label='test data')\n",
    "    plt.legend(loc=4);\n",
    "    \n",
    "    \n",
    "# NOTE: Uncomment the function below to visualize the data, but be sure \n",
    "# to **re-comment it before submitting this assignment to the autograder**.   \n",
    "#part1_scatter()"
   ]
  },
  {
   "cell_type": "markdown",
   "id": "ee0f6cf5-3849-4783-8e02-db14f0c36f54",
   "metadata": {},
   "source": [
    "### Question 1\n",
    "\n",
    "Write a function that fits a polynomial LinearRegression model on the *training data* `X_train` for degrees 1, 3, 6, and 9. (Use PolynomialFeatures in sklearn.preprocessing to create the polynomial features and then fit a linear regression model) For each model, find 100 predicted values over the interval x = 0 to 10 (e.g. `np.linspace(0,10,100)`) and store this in a numpy array. The first row of this array should correspond to the output from the model trained on degree 1, the second row degree 3, the third row degree 6, and the fourth row degree 9.\n",
    "\n",
    "<img src=\"polynomialreg1.png\" style=\"width: 1000px;\"/>\n",
    "\n",
    "The figure above shows the fitted models plotted on top of the original data (using `plot_one()`).\n",
    "\n",
    "<br>\n",
    "*This function should return a numpy array with shape `(4, 100)`*"
   ]
  },
  {
   "cell_type": "code",
   "execution_count": 5,
   "id": "9662fc5a-4e70-41c1-9d5d-768114b16aec",
   "metadata": {},
   "outputs": [],
   "source": [
    "def answer_one():\n",
    "    from sklearn.linear_model import LinearRegression\n",
    "    from sklearn.preprocessing import PolynomialFeatures\n",
    "    \n",
    "    X_train_col = X_train.reshape(-1,1)\n",
    "    degrees = [1, 3, 6, 9]\n",
    "\n",
    "    # Your code here\n",
    "    t = np.linspace(0,10,100).reshape(-1,1) # for this to work, t must be transformed so be the same shape as the degree of the transformed X_training data. That's what the poly.fit_transform(t) in the predict assignment line in the for loop does. Changes t to match the shape of the polynomial trans_x\n",
    "    \n",
    "    predictions = np.zeros((len(degrees), 100))\n",
    "    count = 0\n",
    "    \n",
    "    for degree in degrees:\n",
    "        poly = PolynomialFeatures(degree=degree)\n",
    "        trans_x = poly.fit_transform(X_train_col)\n",
    "        regression = LinearRegression().fit(trans_x, y_train)\n",
    "        predict = regression.predict(poly.fit_transform(t))\n",
    "        predictions[count] = predict\n",
    "        count += 1\n",
    "        \n",
    "    return predictions"
   ]
  },
  {
   "cell_type": "code",
   "execution_count": 6,
   "id": "62d1d786-16bd-4fb9-84e9-9c01b069a516",
   "metadata": {},
   "outputs": [
    {
     "name": "stdout",
     "output_type": "stream",
     "text": [
      "Warning: Cannot change to a different GUI toolkit: notebook. Using ipympl instead.\n"
     ]
    },
    {
     "data": {
      "application/vnd.jupyter.widget-view+json": {
       "model_id": "ee9b24ff6a76465d9e57ef96317ea784",
       "version_major": 2,
       "version_minor": 0
      },
      "text/plain": [
       "Canvas(toolbar=Toolbar(toolitems=[('Home', 'Reset original view', 'home', 'home'), ('Back', 'Back to previous …"
      ]
     },
     "metadata": {},
     "output_type": "display_data"
    }
   ],
   "source": [
    "%matplotlib ipympl\n",
    "\n",
    "def plot_one(degree_predictions):\n",
    "    import matplotlib.pyplot as plt\n",
    "    %matplotlib notebook\n",
    "    plt.figure(figsize=(10,5))\n",
    "    plt.plot(X_train, y_train, 'o', label='training data', markersize=10)\n",
    "    plt.plot(X_test, y_test, 'o', label='test data', markersize=10)\n",
    "    for i,degree in enumerate([1,3,6,9]):\n",
    "        plt.plot(np.linspace(0,10,100), degree_predictions[i], alpha=0.8, lw=2, label='degree={}'.format(degree))\n",
    "    plt.ylim(-1,2.5)\n",
    "    plt.legend(loc=4)\n",
    "\n",
    "plot_one(answer_one())"
   ]
  },
  {
   "cell_type": "markdown",
   "id": "bb4bde5e-6dfd-4491-b338-d423d9430969",
   "metadata": {},
   "source": [
    "### Question 2\n",
    "\n",
    "Write a function that fits a polynomial LinearRegression model on the training data `X_train` for degrees 0 through 9. For each model compute the $R^2$ (coefficient of determination) regression score on the training data as well as the the test data, and return both of these arrays in a tuple.\n",
    "\n",
    "*This function should return one tuple of numpy arrays `(r2_train, r2_test)`. Both arrays should have shape `(10,)`*"
   ]
  },
  {
   "cell_type": "code",
   "execution_count": 7,
   "id": "c003806d-21e6-47de-912b-be10f872bfbc",
   "metadata": {},
   "outputs": [],
   "source": [
    "def answer_two():\n",
    "    from sklearn.linear_model import LinearRegression\n",
    "    from sklearn.preprocessing import PolynomialFeatures\n",
    "    \n",
    "    X_train_col = X_train.reshape(-1,1)\n",
    "    X_test_col = X_test.reshape(-1,1)\n",
    "    degrees = range(0,10) # test for polynomials of degree 0-9\n",
    "\n",
    "    # Your code here\n",
    "    t = np.linspace(0,10,100).reshape(-1,1) # for this to work, t must be transformed so be the same shape as the degree of the transformed X_training data. That's what the poly.fit_transform(t) in the predict assignment line in the for loop does. Changes t to match the shape of the polynomial trans_x\n",
    "    \n",
    "    predictions = np.zeros((len(degrees), 100))\n",
    "    r2_train, r2_test = np.zeros(len(degrees)), np.zeros(len(degrees))\n",
    "    \n",
    "    for degree in degrees:\n",
    "        poly = PolynomialFeatures(degree=degree)\n",
    "        trans_train_x = poly.fit_transform(X_train_col)\n",
    "        trans_test_x = poly.fit_transform(X_test_col)\n",
    "        regression = LinearRegression().fit(trans_train_x, y_train)\n",
    "        r2_train[degree] = regression.score(trans_train_x, y_train)\n",
    "        r2_test[degree] = regression.score(trans_test_x, y_test)\n",
    "\n",
    "    return (r2_train, r2_test)\n"
   ]
  },
  {
   "cell_type": "markdown",
   "id": "484832de-4b98-4a0c-a126-8e19ed17238f",
   "metadata": {},
   "source": [
    "### Question 3\n",
    "\n",
    "Based on the $R^2$ scores from question 2 (degree levels 0 through 9), what degree level corresponds to a model that is underfitting? What degree level corresponds to a model that is overfitting? What choice of degree level would provide a model with good generalization performance on this dataset? \n",
    "\n",
    "Hint: Try plotting the $R^2$ scores from question 2 to visualize the relationship between degree level and $R^2$. Remember to comment out the import matplotlib line before submission.\n",
    "\n",
    "*This function should return one tuple with the degree values in this order: `(Underfitting, Overfitting, Good_Generalization)`. There might be multiple correct solutions, however, you only need to return one possible solution, for example, (1,2,3).* "
   ]
  },
  {
   "cell_type": "code",
   "execution_count": 8,
   "id": "b9c32371-6b4f-4754-bcd0-0d7678c6d409",
   "metadata": {},
   "outputs": [
    {
     "data": {
      "text/plain": [
       "(1, 9, 6)"
      ]
     },
     "execution_count": 8,
     "metadata": {},
     "output_type": "execute_result"
    }
   ],
   "source": [
    "def answer_three():\n",
    "    underfitting = 1\n",
    "    overfitting = 9\n",
    "    good_generalization = 6\n",
    "    return (underfitting, overfitting, good_generalization)\n",
    "\n",
    "answer_three()"
   ]
  },
  {
   "cell_type": "code",
   "execution_count": 9,
   "id": "a205b646-41ee-49d9-8dcd-7797ab0afeb1",
   "metadata": {},
   "outputs": [
    {
     "data": {
      "application/vnd.jupyter.widget-view+json": {
       "model_id": "ae74c830adef48c8933ab33e8f502993",
       "version_major": 2,
       "version_minor": 0
      },
      "text/plain": [
       "Canvas(toolbar=Toolbar(toolitems=[('Home', 'Reset original view', 'home', 'home'), ('Back', 'Back to previous …"
      ]
     },
     "metadata": {},
     "output_type": "display_data"
    }
   ],
   "source": [
    "%matplotlib ipympl\n",
    "\n",
    "# feel free to use the function plot_one() to replicate the figure \n",
    "# from the prompt once you have completed question one\n",
    "def plot(r2):\n",
    "    import matplotlib.pyplot as plt\n",
    "    \n",
    "    degrees = list(range(0,10)) # test for polynomials of degree 0-9\n",
    "    \n",
    "    plt.figure(figsize=(10,5))\n",
    "    plt.plot(degrees, r2, 'o', label='r2 scores', markersize=10)\n",
    "    plt.ylim(-0.1,1)\n",
    "    plt.legend(loc=4)\n",
    "\n",
    "r2_test = answer_two()[1]\n",
    "plot(r2_test)\n",
    "\n"
   ]
  },
  {
   "cell_type": "markdown",
   "id": "f7f02574-24e7-4108-936c-93fa69410642",
   "metadata": {},
   "source": [
    "### Question 4\n",
    "\n",
    "Training models on high degree polynomial features can result in overly complex models that overfit, so we often use regularized versions of the model to constrain model complexity, as we saw with Ridge and Lasso linear regression.\n",
    "\n",
    "For this question, train two models: a non-regularized LinearRegression model (default parameters) and a regularized Lasso Regression model (with parameters `alpha=0.01`, `max_iter=10000`) both on polynomial features of degree 12. Return the $R^2$ score for both the LinearRegression and Lasso model's test sets.\n",
    "\n",
    "*This function should return one tuple `(LinearRegression_R2_test_score, Lasso_R2_test_score)`*"
   ]
  },
  {
   "cell_type": "code",
   "execution_count": 10,
   "id": "7cd0c639-9ee2-439b-a5fa-99f59c8395f7",
   "metadata": {},
   "outputs": [],
   "source": [
    "def answer_four():\n",
    "    from sklearn.preprocessing import PolynomialFeatures\n",
    "    from sklearn.linear_model import Lasso, LinearRegression\n",
    "\n",
    "    X_train_col = X_train.reshape(-1,1)\n",
    "    X_test_col = X_test.reshape(-1,1)\n",
    "    degree = 12\n",
    "\n",
    "    t = np.linspace(0,10,100).reshape(-1,1) # for this to work, t must be transformed so be the same shape as the degree of the transformed X_training data. That's what the poly.fit_transform(t) in the predict assignment line in the for loop does. Changes t to match the shape of the polynomial trans_x\n",
    "\n",
    "    poly = PolynomialFeatures(degree=degree)\n",
    "    \n",
    "    trans_x_train = poly.fit_transform(X_train_col)\n",
    "    trans_x_test = poly.fit_transform(X_test_col)\n",
    "                                      \n",
    "    regression = LinearRegression().fit(trans_x_train, y_train)\n",
    "    score_lin = regression.score(trans_x_test, y_test)\n",
    "    \n",
    "    regression = Lasso(alpha=0.01, max_iter=10000).fit(trans_x_train, y_train)\n",
    "    score_lasso = regression.score(trans_x_test, y_test)\n",
    "    \n",
    "    return (score_lin, score_lasso) \n",
    "    "
   ]
  },
  {
   "cell_type": "markdown",
   "id": "542fc516-a35e-4410-b8ad-070a4ce137c3",
   "metadata": {},
   "source": [
    "## Part 2 - Classification\n",
    "\n",
    "Here's an application of machine learning that could save your life! For this section of the assignment we will be working with the [UCI Mushroom Data Set](http://archive.ics.uci.edu/ml/datasets/Mushroom?ref=datanews.io) stored in `readonly/mushrooms.csv`. The data will be used to train a model to predict whether or not a mushroom is poisonous. The following attributes are provided:\n",
    "\n",
    "*Attribute Information:*\n",
    "\n",
    "1. cap-shape: bell=b, conical=c, convex=x, flat=f, knobbed=k, sunken=s \n",
    "2. cap-surface: fibrous=f, grooves=g, scaly=y, smooth=s \n",
    "3. cap-color: brown=n, buff=b, cinnamon=c, gray=g, green=r, pink=p, purple=u, red=e, white=w, yellow=y \n",
    "4. bruises?: bruises=t, no=f \n",
    "5. odor: almond=a, anise=l, creosote=c, fishy=y, foul=f, musty=m, none=n, pungent=p, spicy=s \n",
    "6. gill-attachment: attached=a, descending=d, free=f, notched=n \n",
    "7. gill-spacing: close=c, crowded=w, distant=d \n",
    "8. gill-size: broad=b, narrow=n \n",
    "9. gill-color: black=k, brown=n, buff=b, chocolate=h, gray=g, green=r, orange=o, pink=p, purple=u, red=e, white=w, yellow=y \n",
    "10. stalk-shape: enlarging=e, tapering=t \n",
    "11. stalk-root: bulbous=b, club=c, cup=u, equal=e, rhizomorphs=z, rooted=r, missing=? \n",
    "12. stalk-surface-above-ring: fibrous=f, scaly=y, silky=k, smooth=s \n",
    "13. stalk-surface-below-ring: fibrous=f, scaly=y, silky=k, smooth=s \n",
    "14. stalk-color-above-ring: brown=n, buff=b, cinnamon=c, gray=g, orange=o, pink=p, red=e, white=w, yellow=y \n",
    "15. stalk-color-below-ring: brown=n, buff=b, cinnamon=c, gray=g, orange=o, pink=p, red=e, white=w, yellow=y \n",
    "16. veil-type: partial=p, universal=u \n",
    "17. veil-color: brown=n, orange=o, white=w, yellow=y \n",
    "18. ring-number: none=n, one=o, two=t \n",
    "19. ring-type: cobwebby=c, evanescent=e, flaring=f, large=l, none=n, pendant=p, sheathing=s, zone=z \n",
    "20. spore-print-color: black=k, brown=n, buff=b, chocolate=h, green=r, orange=o, purple=u, white=w, yellow=y \n",
    "21. population: abundant=a, clustered=c, numerous=n, scattered=s, several=v, solitary=y \n",
    "22. habitat: grasses=g, leaves=l, meadows=m, paths=p, urban=u, waste=w, woods=d\n",
    "\n",
    "<br>\n",
    "\n",
    "The data in the mushrooms dataset is currently encoded with strings. These values will need to be encoded to numeric to work with sklearn. We'll use pd.get_dummies to convert the categorical variables into indicator variables. "
   ]
  },
  {
   "cell_type": "code",
   "execution_count": 11,
   "id": "f151dfaf-f9b8-4417-99c8-533ce55f99be",
   "metadata": {},
   "outputs": [],
   "source": [
    "import pandas as pd\n",
    "import numpy as np\n",
    "from sklearn.model_selection import train_test_split\n",
    "\n",
    "\n",
    "mush_df = pd.read_csv('mushrooms.csv')\n",
    "mush_df2 = pd.get_dummies(mush_df)\n",
    "\n",
    "X_mush = mush_df2.iloc[:,2:]\n",
    "y_mush = mush_df2.iloc[:,1]\n",
    "\n",
    "# use the variables X_train2, y_train2 for Question 5\n",
    "X_train2, X_test2, y_train2, y_test2 = train_test_split(X_mush, y_mush, random_state=0)\n",
    "\n",
    "# For performance reasons in Questions 6 and 7, we will create a smaller version of the\n",
    "# entire mushroom dataset for use in those questions.  For simplicity we'll just re-use\n",
    "# the 25% test split created above as the representative subset.\n",
    "#\n",
    "# Use the variables X_subset, y_subset for Questions 6 and 7.\n",
    "X_subset = X_test2\n",
    "y_subset = y_test2"
   ]
  },
  {
   "cell_type": "markdown",
   "id": "7f15289f-f2dc-47c6-804f-066cd3459950",
   "metadata": {},
   "source": [
    "### Question 5\n",
    "\n",
    "Using `X_train2` and `y_train2` from the preceeding cell, train a DecisionTreeClassifier with default parameters and random_state=0. What are the 5 most important features found by the decision tree?\n",
    "\n",
    "As a reminder, the feature names are available in the `X_train2.columns` property, and the order of the features in `X_train2.columns` matches the order of the feature importance values in the classifier's `feature_importances_` property. \n",
    "\n",
    "*This function should return a list of length 5 containing the feature names in descending order of importance.*\n",
    "\n",
    "*Note: remember that you also need to set random_state in the DecisionTreeClassifier.*"
   ]
  },
  {
   "cell_type": "code",
   "execution_count": 12,
   "id": "9eb3857d-199b-475e-8345-d2b2239aa57b",
   "metadata": {},
   "outputs": [
    {
     "data": {
      "text/plain": [
       "['odor_n', 'stalk-root_c', 'stalk-root_r', 'spore-print-color_r', 'odor_l']"
      ]
     },
     "execution_count": 12,
     "metadata": {},
     "output_type": "execute_result"
    }
   ],
   "source": [
    "def answer_five():\n",
    "    from sklearn.tree import DecisionTreeClassifier\n",
    "    \n",
    "    def first_elem(s):\n",
    "        return s[0]\n",
    "\n",
    "    # Your code here\n",
    "    dtree = DecisionTreeClassifier(random_state=0).fit(X_train2, y_train2)\n",
    "    lst = tuple(zip(dtree.feature_importances_, X_train2.columns))\n",
    "        \n",
    "    important_features = []\n",
    "\n",
    "    for i in range(0, len(dtree.feature_importances_)):\n",
    "        if lst[i][0] > 0:\n",
    "            important_features.append(lst[i])\n",
    "\n",
    "    important_features = sorted(important_features, key=first_elem)[::-1][0:5] # this is messy but here's what it does: takes important_features and sorts according to first element in each element of the tuple (i.e. each feature importance rating) in ascending order. The [::-1] slice puts the sorted tuple in descending order, and then [0:5] extracts only the first five elements of the tuple/. \n",
    "    \n",
    "    important_features = list(zip(*important_features))[1] # unzips the tuple so that we can return ONLY the feature names\n",
    "    return list(important_features)\n",
    "\n",
    "answer_five()"
   ]
  },
  {
   "cell_type": "markdown",
   "id": "1c2e2ab9-3490-4dc1-ab50-b2fa83406ed5",
   "metadata": {},
   "source": [
    "### Question 6\n",
    "\n",
    "For this question, we're going to use the `validation_curve` function in `sklearn.model_selection` to determine training and test scores for a Support Vector Classifier (`SVC`) with varying parameter values.  Recall that the validation_curve function, in addition to taking an initialized unfitted classifier object, takes a dataset as input and does its own internal train-test splits to compute results.\n",
    "\n",
    "**Because creating a validation curve requires fitting multiple models, for performance reasons this question will use just a subset of the original mushroom dataset: please use the variables X_subset and y_subset as input to the validation curve function (instead of X_mush and y_mush) to reduce computation time.**\n",
    "\n",
    "The initialized unfitted classifier object we'll be using is a Support Vector Classifier with radial basis kernel.  So your first step is to create an `SVC` object with default parameters (i.e. `kernel='rbf', C=1`) and `random_state=0`. Recall that the kernel width of the RBF kernel is controlled using the `gamma` parameter.  \n",
    "\n",
    "With this classifier, and the dataset in X_subset, y_subset, explore the effect of `gamma` on classifier accuracy by using the `validation_curve` function to find the training and test scores for 6 values of `gamma` from `0.0001` to `10` (i.e. `np.logspace(-4,1,6)`). Recall that you can specify what scoring metric you want validation_curve to use by setting the \"scoring\" parameter.  In this case, we want to use \"accuracy\" as the scoring metric.\n",
    "\n",
    "For each level of `gamma`, `validation_curve` will fit 3 models on different subsets of the data, returning two 6x3 (6 levels of gamma x 3 fits per level) arrays of the scores for the training and test sets.\n",
    "\n",
    "Find the mean score across the three models for each level of `gamma` for both arrays, creating two arrays of length 6, and return a tuple with the two arrays.\n",
    "\n",
    "e.g.\n",
    "\n",
    "if one of your array of scores is\n",
    "\n",
    "    array([[ 0.5,  0.4,  0.6],\n",
    "           [ 0.7,  0.8,  0.7],\n",
    "           [ 0.9,  0.8,  0.8],\n",
    "           [ 0.8,  0.7,  0.8],\n",
    "           [ 0.7,  0.6,  0.6],\n",
    "           [ 0.4,  0.6,  0.5]])\n",
    "       \n",
    "it should then become\n",
    "\n",
    "    array([ 0.5,  0.73333333,  0.83333333,  0.76666667,  0.63333333, 0.5])\n",
    "\n",
    "*This function should return one tuple of numpy arrays `(training_scores, test_scores)` where each array in the tuple has shape `(6,)`.*"
   ]
  },
  {
   "cell_type": "code",
   "execution_count": 70,
   "id": "f2bc1a04-8579-4a1d-b5c1-1eb645024d0f",
   "metadata": {},
   "outputs": [
    {
     "data": {
      "text/plain": [
       "(array([0.56646972, 0.93106844, 0.990645  , 1.        , 1.        ,\n",
       "        1.        ]),\n",
       " array([0.56720827, 0.9300837 , 0.98966027, 1.        , 0.99458395,\n",
       "        0.52240276]))"
      ]
     },
     "execution_count": 70,
     "metadata": {},
     "output_type": "execute_result"
    }
   ],
   "source": [
    "def answer_six():\n",
    "    from sklearn.svm import SVC\n",
    "    from sklearn.model_selection import validation_curve\n",
    "    import pandas as pd\n",
    "\n",
    "    # Your code here\n",
    "    \n",
    "    SVC(kernel = 'rbf', C = 1, random_state = 0) # validation_curve requires an initialized SVC classifier\n",
    "    param_range = np.logspace(-4,1,6) # gamma logspace\n",
    "    \n",
    "    train_scores, test_scores = validation_curve(SVC(), X_subset, y_subset, param_name='gamma', param_range=param_range, scoring='accuracy', cv=3)\n",
    "    \n",
    "    train_df = pd.DataFrame(data=train_scores, index=param_range)\n",
    "    test_df = pd.DataFrame(data=test_scores, index=param_range)\n",
    "    \n",
    "    mean_train = np.zeros(len(train_df.index))\n",
    "    mean_test = np.zeros(len(test_df.index))\n",
    "    \n",
    "    for index in range(0, len(train_df.index)):\n",
    "        mean_train[index] = train_df.iloc[index].mean()\n",
    "        mean_test[index] = test_df.iloc[index].mean()\n",
    "        \n",
    "    ret = (mean_train, mean_test) # return a tuple of np arrays\n",
    "    return ret \n",
    "\n",
    "answer_six()"
   ]
  },
  {
   "cell_type": "markdown",
   "id": "078a0ff0-915e-4902-abcf-39504e4b6d1d",
   "metadata": {},
   "source": [
    "### Question 7\n",
    "\n",
    "Based on the scores from question 6, what gamma value corresponds to a model that is underfitting (and has the worst test set accuracy)? What gamma value corresponds to a model that is overfitting (and has the worst test set accuracy)? What choice of gamma would be the best choice for a model with good generalization performance on this dataset (high accuracy on both training and test set)? \n",
    "\n",
    "Hint: Try plotting the scores from question 6 to visualize the relationship between gamma and accuracy. Remember to comment out the import matplotlib line before submission.\n",
    "\n",
    "*This function should return one tuple with the degree values in this order: `(Underfitting, Overfitting, Good_Generalization)` Please note there is only one correct solution.*"
   ]
  },
  {
   "cell_type": "code",
   "execution_count": 79,
   "id": "439733bd-1f4a-4030-b76e-98162c6dfd9b",
   "metadata": {},
   "outputs": [
    {
     "data": {
      "text/plain": [
       "(0.0001, 10, 0.1)"
      ]
     },
     "execution_count": 79,
     "metadata": {},
     "output_type": "execute_result"
    }
   ],
   "source": [
    "def answer_seven():\n",
    "    underfitting = 1E-4\n",
    "    overfitting = 10\n",
    "    good_generalization = 0.1\n",
    "    return (underfitting, overfitting, good_generalization)\n",
    "\n",
    "answer_seven() "
   ]
  },
  {
   "cell_type": "code",
   "execution_count": 80,
   "id": "dd3af2ae-9e62-48dd-a845-37e9368a9839",
   "metadata": {},
   "outputs": [
    {
     "data": {
      "application/vnd.jupyter.widget-view+json": {
       "model_id": "71a3c8394cfb4d5790084188c3438240",
       "version_major": 2,
       "version_minor": 0
      },
      "text/plain": [
       "Canvas(toolbar=Toolbar(toolitems=[('Home', 'Reset original view', 'home', 'home'), ('Back', 'Back to previous …"
      ]
     },
     "metadata": {},
     "output_type": "display_data"
    }
   ],
   "source": [
    "%matplotlib ipympl\n",
    "\n",
    "# This helps us to visualize the validation curves to answer question 7\n",
    "\n",
    "def plot2(mean_train, mean_test):\n",
    "    import matplotlib.pyplot as plt\n",
    "    gamma = np.logspace(-4,1,6)\n",
    "    \n",
    "    plt.figure(figsize=(10,5))\n",
    "    plt.plot(gamma, mean_train, label='mean_train')\n",
    "    plt.plot(gamma, mean_test, label='mean_test')\n",
    "    plt.xscale('log')\n",
    "    plt.ylabel('Score (Accuracy)')\n",
    "    plt.xlabel('Gamma')\n",
    "    plt.legend(loc=4)\n",
    "\n",
    "mean_train = answer_six()[0]\n",
    "mean_test = answer_six()[1]\n",
    "plot2(mean_train, mean_test)"
   ]
  },
  {
   "cell_type": "code",
   "execution_count": 78,
   "id": "187f4055-73c3-41b9-b432-1b5c84c15997",
   "metadata": {},
   "outputs": [
    {
     "name": "stdout",
     "output_type": "stream",
     "text": [
      "[1.e-04 1.e-03 1.e-02 1.e-01 1.e+00 1.e+01]\n"
     ]
    }
   ],
   "source": [
    "print(np.logspace(-4,1,6))"
   ]
  },
  {
   "cell_type": "code",
   "execution_count": null,
   "id": "80f29152-f05f-43bd-a5ff-9b379363e3bf",
   "metadata": {},
   "outputs": [],
   "source": []
  }
 ],
 "metadata": {
  "kernelspec": {
   "display_name": "Python 3",
   "language": "python",
   "name": "python3"
  },
  "language_info": {
   "codemirror_mode": {
    "name": "ipython",
    "version": 3
   },
   "file_extension": ".py",
   "mimetype": "text/x-python",
   "name": "python",
   "nbconvert_exporter": "python",
   "pygments_lexer": "ipython3",
   "version": "3.9.5"
  }
 },
 "nbformat": 4,
 "nbformat_minor": 5
}
